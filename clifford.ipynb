{
 "cells": [
  {
   "cell_type": "markdown",
   "metadata": {},
   "source": [
    "# Clifford Algebras"
   ]
  },
  {
   "cell_type": "markdown",
   "metadata": {},
   "source": [
    "This notebook computes a basis of the real clifford algebra $Cl(s,t)$ in $s$ space and $t$ time dimensions.\n",
    "\n",
    "Our convention is that $\\Gamma_{(s)}^2=-1$ and $\\Gamma_{(t)}^2=1$."
   ]
  },
  {
   "cell_type": "markdown",
   "metadata": {},
   "source": [
    "## Initialization"
   ]
  },
  {
   "cell_type": "code",
   "execution_count": 1,
   "metadata": {
    "collapsed": true
   },
   "outputs": [],
   "source": [
    "from sympy.interactive.printing import init_printing\n",
    "init_printing(use_unicode=True, wrap_line=False, no_global=True)"
   ]
  },
  {
   "cell_type": "code",
   "execution_count": 2,
   "metadata": {
    "collapsed": true
   },
   "outputs": [],
   "source": [
    "from sympy import I, binomial, Symbol\n",
    "from sympy.matrices import Matrix, eye\n",
    "from sympy.physics.quantum import TensorProduct"
   ]
  },
  {
   "cell_type": "code",
   "execution_count": 3,
   "metadata": {
    "collapsed": true
   },
   "outputs": [],
   "source": [
    "from IPython.core.interactiveshell import InteractiveShell\n",
    "InteractiveShell.ast_node_interactivity = \"all\""
   ]
  },
  {
   "cell_type": "markdown",
   "metadata": {},
   "source": [
    "## Some Definitions "
   ]
  },
  {
   "cell_type": "markdown",
   "metadata": {},
   "source": [
    "We define the low dimensional clifford algebras as:\n",
    "\n",
    "$Cl(0,0)=\\langle 1 \\rangle \\simeq \\mathbb{R}(1)$\n",
    "\n",
    "$Cl(1,0)=\\langle 1, i \\rangle \\simeq \\mathbb{C}(1)$\n",
    "\n",
    "$Cl(0,1)=\\langle 1, \\sigma_2 \\rangle \\simeq \\mathbb{R}(1)\\oplus\\mathbb{R}(1)$\n",
    "\n",
    "$Cl(2,0)=\\langle 1, \\gamma_1, \\gamma_2, \\gamma_{12} \\rangle \\simeq \\mathbb{H}(1)$\n",
    "\n",
    "$Cl(1,1)=\\langle 1, \\sigma_1, \\gamma_1, \\sigma_1\\gamma_1 \\rangle \\simeq \\mathbb{R}(2)$\n",
    "\n",
    "$Cl(0,2)=\\langle 1, \\sigma_1, \\sigma_2, \\sigma_{12} \\rangle \\simeq \\mathbb{R}(2)$"
   ]
  },
  {
   "cell_type": "code",
   "execution_count": 4,
   "metadata": {},
   "outputs": [
    {
     "data": {
      "image/png": "[encoded data removed]",
      "text/latex": [
       "$$\\left[\\begin{matrix}0 & 1\\\\-1 & 0\\end{matrix}\\right]$$"
      ],
      "text/plain": [
       "⎡0   1⎤\n",
       "⎢     ⎥\n",
       "⎣-1  0⎦"
      ]
     },
     "execution_count": 4,
     "metadata": {},
     "output_type": "execute_result"
    },
    {
     "data": {
      "image/png": "[encoded data removed]",
      "text/latex": [
       "$$\\left[\\begin{matrix}0 & i\\\\i & 0\\end{matrix}\\right]$$"
      ],
      "text/plain": [
       "⎡0  ⅈ⎤\n",
       "⎢    ⎥\n",
       "⎣ⅈ  0⎦"
      ]
     },
     "execution_count": 4,
     "metadata": {},
     "output_type": "execute_result"
    },
    {
     "data": {
      "image/png": "[encoded data removed]",
      "text/latex": [
       "$$\\left[\\begin{matrix}0 & 1\\\\1 & 0\\end{matrix}\\right]$$"
      ],
      "text/plain": [
       "⎡0  1⎤\n",
       "⎢    ⎥\n",
       "⎣1  0⎦"
      ]
     },
     "execution_count": 4,
     "metadata": {},
     "output_type": "execute_result"
    },
    {
     "data": {
      "image/png": "[encoded data removed]",
      "text/latex": [
       "$$\\left[\\begin{matrix}1 & 0\\\\0 & -1\\end{matrix}\\right]$$"
      ],
      "text/plain": [
       "⎡1  0 ⎤\n",
       "⎢     ⎥\n",
       "⎣0  -1⎦"
      ]
     },
     "execution_count": 4,
     "metadata": {},
     "output_type": "execute_result"
    }
   ],
   "source": [
    "g1 = Matrix([[ 0, 1],[-1, 0]]);g1\n",
    "g2 = Matrix([[ 0, I],[ I, 0]]);g2\n",
    "s1 = Matrix([[ 0, 1],[ 1, 0]]);s1\n",
    "s2 = Matrix([[ 1, 0],[ 0,-1]]);s2"
   ]
  },
  {
   "cell_type": "markdown",
   "metadata": {},
   "source": [
    "## Implementation"
   ]
  },
  {
   "cell_type": "markdown",
   "metadata": {},
   "source": [
    "Here we define `cl(s,t)` as the function that returns the generators of $Cl(s,t)$ as list of matrices.\n",
    "The first entry of the list is the scalar of the algebra while the other entries are the vectors.\n",
    "\n",
    "We use the relations:\n",
    "\n",
    "$Cl(s,t)\\equiv Cl(s-1,t-1)\\otimes_{\\mathbb{R}}Cl(1,1)$\n",
    "\n",
    "$Cl(s,0)\\equiv Cl(0,s-2)\\otimes_{\\mathbb{R}}Cl(2,0)$\n",
    "\n",
    "$Cl(0,t)\\equiv Cl(t-2,0)\\otimes_{\\mathbb{R}}Cl(0,2)$"
   ]
  },
  {
   "cell_type": "code",
   "execution_count": 5,
   "metadata": {
    "collapsed": true
   },
   "outputs": [],
   "source": [
    "def cl(s, t):\n",
    "    if ( s < 0 ):\n",
    "        return [eye(1)]\n",
    "    elif ( s == 0 ):\n",
    "        if ( t < 0 ):\n",
    "            return [eye(1)]\n",
    "        elif ( t == 0 ):\n",
    "            return [eye(1)]\n",
    "        elif ( t == 1 ):\n",
    "            return [eye(2), s2]\n",
    "        else:\n",
    "            tmp = cl(t-2, s)\n",
    "            new = [TensorProduct(tmp[0], eye(2))]\n",
    "            for i in range(0, t+s-2):\n",
    "                new.append(TensorProduct(tmp[i+1], s1*s2))\n",
    "            new.append(TensorProduct(tmp[0], s1))\n",
    "            new.append(TensorProduct(tmp[0], s2))\n",
    "            return new\n",
    "    elif ( s == 1 ):\n",
    "        if ( t < 0 ):\n",
    "            return [eye(1)]\n",
    "        elif ( t == 0 ):\n",
    "            return [eye(1), I*eye(1)]\n",
    "        else:\n",
    "            tmp = cl(s-1, t-1)\n",
    "            new = [TensorProduct(tmp[0], eye(2))]\n",
    "            for i in range(0, t+s-2):\n",
    "                new.append(TensorProduct(tmp[i+1], g1*s1))\n",
    "            new.append(TensorProduct(tmp[0], g1))\n",
    "            new.append(TensorProduct(tmp[0], s1))\n",
    "            return new\n",
    "    else:\n",
    "        if ( t < 0 ):\n",
    "            return [eye(1)]\n",
    "        elif ( t == 0 ):\n",
    "            tmp = cl(t, s-2)\n",
    "            new = [TensorProduct(tmp[0], eye(2))]\n",
    "            for i in range(0, t+s-2):\n",
    "                new.append(TensorProduct(tmp[i+1], g1*g2))\n",
    "            new.append(TensorProduct(tmp[0], g1))\n",
    "            new.append(TensorProduct(tmp[0], g2))\n",
    "            return new\n",
    "        else:\n",
    "            tmp = cl(s-1, t-1)\n",
    "            new = [TensorProduct(tmp[0], eye(2))]\n",
    "            for i in range(0, t+s-2):\n",
    "                new.append(TensorProduct(tmp[i+1], g1*s1))\n",
    "            new.append(TensorProduct(tmp[0], g1))\n",
    "            new.append(TensorProduct(tmp[0], s1))\n",
    "            return new"
   ]
  },
  {
   "cell_type": "markdown",
   "metadata": {},
   "source": [
    "The function `clifford(s,t)` returns a list of (degree 1) generators for the clifford algebra, written in a basis in which the pseudoscalar is diagonal."
   ]
  },
  {
   "cell_type": "code",
   "execution_count": 6,
   "metadata": {
    "collapsed": true
   },
   "outputs": [],
   "source": [
    "def clifford(s, t):\n",
    "    tmp = cl(s, t)\n",
    "    pseudoscalar = 1;\n",
    "    for i in range(0, len(tmp)):\n",
    "        pseudoscalar *= tmp[i]\n",
    "    if ( (I*pseudoscalar).is_Identity or (-I*pseudoscalar).is_Identity ):\n",
    "        return tmp[1:]\n",
    "    else:\n",
    "        m = pseudoscalar.diagonalize()[0]\n",
    "        new = []\n",
    "        for i in range(1, len(tmp)):\n",
    "            new.append(m.inv()*tmp[i]*m)\n",
    "        return new"
   ]
  },
  {
   "cell_type": "markdown",
   "metadata": {},
   "source": [
    "## Example:"
   ]
  },
  {
   "cell_type": "code",
   "execution_count": 7,
   "metadata": {
    "scrolled": true
   },
   "outputs": [
    {
     "data": {
      "image/png": "[encoded data removed]",
      "text/latex": [
       "$$\\left [ \\left[\\begin{matrix}0 & 0 & 0 & -1\\\\0 & 0 & -1 & 0\\\\0 & 1 & 0 & 0\\\\1 & 0 & 0 & 0\\end{matrix}\\right], \\quad \\left[\\begin{matrix}0 & 0 & 0 & - i\\\\0 & 0 & i & 0\\\\0 & i & 0 & 0\\\\- i & 0 & 0 & 0\\end{matrix}\\right], \\quad \\left[\\begin{matrix}0 & 0 & -1 & 0\\\\0 & 0 & 0 & 1\\\\1 & 0 & 0 & 0\\\\0 & -1 & 0 & 0\\end{matrix}\\right], \\quad \\left[\\begin{matrix}0 & 0 & 1 & 0\\\\0 & 0 & 0 & 1\\\\1 & 0 & 0 & 0\\\\0 & 1 & 0 & 0\\end{matrix}\\right]\\right ]$$"
      ],
      "text/plain": [
       "⎡⎡0  0  0   -1⎤  ⎡0   0  0  -ⅈ⎤  ⎡0  0   -1  0⎤  ⎡0  0  1  0⎤⎤\n",
       "⎢⎢            ⎥  ⎢            ⎥  ⎢            ⎥  ⎢          ⎥⎥\n",
       "⎢⎢0  0  -1  0 ⎥  ⎢0   0  ⅈ  0 ⎥  ⎢0  0   0   1⎥  ⎢0  0  0  1⎥⎥\n",
       "⎢⎢            ⎥, ⎢            ⎥, ⎢            ⎥, ⎢          ⎥⎥\n",
       "⎢⎢0  1  0   0 ⎥  ⎢0   ⅈ  0  0 ⎥  ⎢1  0   0   0⎥  ⎢1  0  0  0⎥⎥\n",
       "⎢⎢            ⎥  ⎢            ⎥  ⎢            ⎥  ⎢          ⎥⎥\n",
       "⎣⎣1  0  0   0 ⎦  ⎣-ⅈ  0  0  0 ⎦  ⎣0  -1  0   0⎦  ⎣0  1  0  0⎦⎦"
      ]
     },
     "execution_count": 7,
     "metadata": {},
     "output_type": "execute_result"
    },
    {
     "data": {
      "image/png": "[encoded data removed]",
      "text/latex": [
       "$$\\left [ -1, \\quad -1, \\quad -1, \\quad 1\\right ]$$"
      ],
      "text/plain": [
       "[-1, -1, -1, 1]"
      ]
     },
     "execution_count": 7,
     "metadata": {},
     "output_type": "execute_result"
    }
   ],
   "source": [
    "s = 3;\n",
    "t = 1;\n",
    "\n",
    "gamma = clifford(s,t)\n",
    "gamma\n",
    "\n",
    "signature = [];\n",
    "for i in range(0, len(gamma)):\n",
    "    signature.append((gamma[i]**2).trace()/gamma[0].rows)\n",
    "signature"
   ]
  },
  {
   "cell_type": "markdown",
   "metadata": {},
   "source": [
    "Define the pseudoscalar as $\\Gamma_*=\\Gamma_1\\Gamma_2...\\Gamma_{s+t}$"
   ]
  },
  {
   "cell_type": "code",
   "execution_count": 8,
   "metadata": {},
   "outputs": [
    {
     "data": {
      "image/png": "[encoded data removed]",
      "text/latex": [
       "$$\\left[\\begin{matrix}- i & 0 & 0 & 0\\\\0 & - i & 0 & 0\\\\0 & 0 & i & 0\\\\0 & 0 & 0 & i\\end{matrix}\\right]$$"
      ],
      "text/plain": [
       "⎡-ⅈ  0   0  0⎤\n",
       "⎢            ⎥\n",
       "⎢0   -ⅈ  0  0⎥\n",
       "⎢            ⎥\n",
       "⎢0   0   ⅈ  0⎥\n",
       "⎢            ⎥\n",
       "⎣0   0   0  ⅈ⎦"
      ]
     },
     "execution_count": 8,
     "metadata": {},
     "output_type": "execute_result"
    }
   ],
   "source": [
    "pseudoscalar = 1;\n",
    "for i in range(0, len(gamma)):\n",
    "    pseudoscalar *= gamma[i]\n",
    "pseudoscalar"
   ]
  },
  {
   "cell_type": "markdown",
   "metadata": {},
   "source": [
    "and check that $\\Gamma_*^2=(-1)^{\\frac{(s+t)(s+t-1)}{2}+s}\\mathbb{1}$"
   ]
  },
  {
   "cell_type": "code",
   "execution_count": 9,
   "metadata": {},
   "outputs": [
    {
     "data": {
      "text/plain": [
       "True"
      ]
     },
     "execution_count": 9,
     "metadata": {},
     "output_type": "execute_result"
    }
   ],
   "source": [
    "pseudoscalar**2 == (gamma[0]**4)*(-1)**(binomial(s+t,2)+s)"
   ]
  },
  {
   "cell_type": "markdown",
   "metadata": {},
   "source": [
    "and the element $A=\\Gamma_{i_1}\\Gamma_{i_2}...\\Gamma_{i_t}$ such that $\\Gamma_{i_k}$ are timelike"
   ]
  },
  {
   "cell_type": "code",
   "execution_count": 10,
   "metadata": {},
   "outputs": [
    {
     "data": {
      "image/png": "[encoded data removed]",
      "text/latex": [
       "$$\\left[\\begin{matrix}0 & 0 & 1 & 0\\\\0 & 0 & 0 & 1\\\\1 & 0 & 0 & 0\\\\0 & 1 & 0 & 0\\end{matrix}\\right]$$"
      ],
      "text/plain": [
       "⎡0  0  1  0⎤\n",
       "⎢          ⎥\n",
       "⎢0  0  0  1⎥\n",
       "⎢          ⎥\n",
       "⎢1  0  0  0⎥\n",
       "⎢          ⎥\n",
       "⎣0  1  0  0⎦"
      ]
     },
     "execution_count": 10,
     "metadata": {},
     "output_type": "execute_result"
    }
   ],
   "source": [
    "A = 1;\n",
    "for i in range(0, len(gamma)):\n",
    "    if (signature[i] == 1):\n",
    "        A *= gamma[i]\n",
    "A"
   ]
  },
  {
   "cell_type": "markdown",
   "metadata": {},
   "source": [
    "We now check the following properties:\n",
    "\n",
    "$\\Gamma^\\dagger_{(s)}=-\\Gamma_{(s)}$\n",
    "\n",
    "$\\Gamma^\\dagger_{(t)}=\\Gamma_{(t)}$"
   ]
  },
  {
   "cell_type": "code",
   "execution_count": 11,
   "metadata": {},
   "outputs": [
    {
     "data": {
      "text/plain": [
       "True"
      ]
     },
     "execution_count": 11,
     "metadata": {},
     "output_type": "execute_result"
    },
    {
     "data": {
      "text/plain": [
       "True"
      ]
     },
     "execution_count": 11,
     "metadata": {},
     "output_type": "execute_result"
    },
    {
     "data": {
      "text/plain": [
       "True"
      ]
     },
     "execution_count": 11,
     "metadata": {},
     "output_type": "execute_result"
    },
    {
     "data": {
      "text/plain": [
       "True"
      ]
     },
     "execution_count": 11,
     "metadata": {},
     "output_type": "execute_result"
    }
   ],
   "source": [
    "for i in range(0, len(gamma)):\n",
    "    gamma[i].conjugate().transpose() == signature[i]*gamma[i]"
   ]
  },
  {
   "cell_type": "markdown",
   "metadata": {},
   "source": [
    "and $\\Gamma^{\\mu\\dagger}=-(-1)^t A \\Gamma^\\mu A^{-1}$"
   ]
  },
  {
   "cell_type": "code",
   "execution_count": 12,
   "metadata": {},
   "outputs": [
    {
     "data": {
      "text/plain": [
       "True"
      ]
     },
     "execution_count": 12,
     "metadata": {},
     "output_type": "execute_result"
    },
    {
     "data": {
      "text/plain": [
       "True"
      ]
     },
     "execution_count": 12,
     "metadata": {},
     "output_type": "execute_result"
    },
    {
     "data": {
      "text/plain": [
       "True"
      ]
     },
     "execution_count": 12,
     "metadata": {},
     "output_type": "execute_result"
    },
    {
     "data": {
      "text/plain": [
       "True"
      ]
     },
     "execution_count": 12,
     "metadata": {},
     "output_type": "execute_result"
    }
   ],
   "source": [
    "for i in range(0, len(gamma)):\n",
    "    gamma[i].conjugate().transpose()==-((-1)**t)*A*gamma[i]*(A.inv())"
   ]
  },
  {
   "cell_type": "markdown",
   "metadata": {},
   "source": [
    "$\\varepsilon=\\pm 1$\n",
    "\n",
    "$\\eta=\\pm 1$"
   ]
  },
  {
   "cell_type": "code",
   "execution_count": 13,
   "metadata": {
    "collapsed": true
   },
   "outputs": [],
   "source": [
    "eta = -1;\n",
    "eps = 1;"
   ]
  },
  {
   "cell_type": "markdown",
   "metadata": {},
   "source": [
    "$B^*B = \\varepsilon\\mathbb{1}$"
   ]
  },
  {
   "cell_type": "code",
   "execution_count": 14,
   "metadata": {},
   "outputs": [
    {
     "data": {
      "image/png": "[encoded data removed]",
      "text/latex": [
       "$$\\left[\\begin{matrix}0 & 0 & 0 & 1\\\\0 & 0 & -1 & 0\\\\0 & -1 & 0 & 0\\\\1 & 0 & 0 & 0\\end{matrix}\\right]$$"
      ],
      "text/plain": [
       "⎡0  0   0   1⎤\n",
       "⎢            ⎥\n",
       "⎢0  0   -1  0⎥\n",
       "⎢            ⎥\n",
       "⎢0  -1  0   0⎥\n",
       "⎢            ⎥\n",
       "⎣1  0   0   0⎦"
      ]
     },
     "execution_count": 14,
     "metadata": {},
     "output_type": "execute_result"
    },
    {
     "data": {
      "text/plain": [
       "True"
      ]
     },
     "execution_count": 14,
     "metadata": {},
     "output_type": "execute_result"
    }
   ],
   "source": [
    "B = Matrix([[ 0, 0, 0, 1],[ 0, 0,-1, 0],[ 0, -1, 0, 0],[ 1, 0, 0, 0]])\n",
    "B\n",
    "B.conjugate() * B == eps * eye(B.rows)"
   ]
  },
  {
   "cell_type": "markdown",
   "metadata": {},
   "source": [
    "$\\Gamma^\\mu = \\eta B^{-1} \\Gamma^{\\mu*} B$"
   ]
  },
  {
   "cell_type": "code",
   "execution_count": 15,
   "metadata": {},
   "outputs": [
    {
     "data": {
      "text/plain": [
       "True"
      ]
     },
     "execution_count": 15,
     "metadata": {},
     "output_type": "execute_result"
    },
    {
     "data": {
      "text/plain": [
       "True"
      ]
     },
     "execution_count": 15,
     "metadata": {},
     "output_type": "execute_result"
    },
    {
     "data": {
      "text/plain": [
       "True"
      ]
     },
     "execution_count": 15,
     "metadata": {},
     "output_type": "execute_result"
    },
    {
     "data": {
      "text/plain": [
       "True"
      ]
     },
     "execution_count": 15,
     "metadata": {},
     "output_type": "execute_result"
    }
   ],
   "source": [
    "for i in range(0, len(gamma)):\n",
    "    gamma[i] == eta * B.inv() * gamma[i].conjugate() * B"
   ]
  },
  {
   "cell_type": "markdown",
   "metadata": {},
   "source": [
    "$B^T=CA^{-1}$"
   ]
  },
  {
   "cell_type": "code",
   "execution_count": 16,
   "metadata": {},
   "outputs": [
    {
     "data": {
      "image/png": "[encoded data removed]",
      "text/latex": [
       "$$\\left[\\begin{matrix}0 & 1 & 0 & 0\\\\-1 & 0 & 0 & 0\\\\0 & 0 & 0 & -1\\\\0 & 0 & 1 & 0\\end{matrix}\\right]$$"
      ],
      "text/plain": [
       "⎡0   1  0  0 ⎤\n",
       "⎢            ⎥\n",
       "⎢-1  0  0  0 ⎥\n",
       "⎢            ⎥\n",
       "⎢0   0  0  -1⎥\n",
       "⎢            ⎥\n",
       "⎣0   0  1  0 ⎦"
      ]
     },
     "execution_count": 16,
     "metadata": {},
     "output_type": "execute_result"
    }
   ],
   "source": [
    "C = B.transpose() * A\n",
    "C"
   ]
  },
  {
   "cell_type": "markdown",
   "metadata": {},
   "source": [
    "$\\Gamma^{\\mu T} = (-1)^{t+1} \\eta C \\Gamma^\\mu C^{-1}$\n",
    "\n",
    "$C^\\dagger C = \\mathbb{1}$\n",
    "\n",
    "$C^T = \\varepsilon \\eta^t (-1)^{t(t-1)/2}C$"
   ]
  },
  {
   "cell_type": "code",
   "execution_count": 17,
   "metadata": {},
   "outputs": [
    {
     "data": {
      "text/plain": [
       "True"
      ]
     },
     "execution_count": 17,
     "metadata": {},
     "output_type": "execute_result"
    },
    {
     "data": {
      "text/plain": [
       "True"
      ]
     },
     "execution_count": 17,
     "metadata": {},
     "output_type": "execute_result"
    },
    {
     "data": {
      "text/plain": [
       "True"
      ]
     },
     "execution_count": 17,
     "metadata": {},
     "output_type": "execute_result"
    },
    {
     "data": {
      "text/plain": [
       "True"
      ]
     },
     "execution_count": 17,
     "metadata": {},
     "output_type": "execute_result"
    },
    {
     "data": {
      "text/plain": [
       "True"
      ]
     },
     "execution_count": 17,
     "metadata": {},
     "output_type": "execute_result"
    },
    {
     "data": {
      "text/plain": [
       "True"
      ]
     },
     "execution_count": 17,
     "metadata": {},
     "output_type": "execute_result"
    }
   ],
   "source": [
    "for i in range(0, len(gamma)):\n",
    "    gamma[i].transpose() == ((-1)**(t+1)) * eta * C * gamma[i] * C.inv()\n",
    "C.conjugate().transpose() * C == eye(C.rows)\n",
    "C.transpose() == eps * (eta**t) * ((-1)**binomial(t,2)) * C"
   ]
  },
  {
   "cell_type": "markdown",
   "metadata": {},
   "source": [
    "$\\psi^* = B\\,\\psi$"
   ]
  },
  {
   "cell_type": "code",
   "execution_count": 18,
   "metadata": {},
   "outputs": [
    {
     "data": {
      "image/png": "[encoded data removed]",
      "text/latex": [
       "$$\\left[\\begin{matrix}x\\\\y\\\\- \\overline{y}\\\\\\overline{x}\\end{matrix}\\right]$$"
      ],
      "text/plain": [
       "⎡x ⎤\n",
       "⎢  ⎥\n",
       "⎢y ⎥\n",
       "⎢  ⎥\n",
       "⎢ _⎥\n",
       "⎢-y⎥\n",
       "⎢  ⎥\n",
       "⎢_ ⎥\n",
       "⎣x ⎦"
      ]
     },
     "execution_count": 18,
     "metadata": {},
     "output_type": "execute_result"
    },
    {
     "data": {
      "text/plain": [
       "True"
      ]
     },
     "execution_count": 18,
     "metadata": {},
     "output_type": "execute_result"
    }
   ],
   "source": [
    "x = Symbol('x')\n",
    "y = Symbol('y')\n",
    "psi = Matrix([[x],[y],[-y.conjugate()],[x.conjugate()]])\n",
    "psi\n",
    "psi.conjugate() == B * psi"
   ]
  },
  {
   "cell_type": "code",
   "execution_count": null,
   "metadata": {
    "collapsed": true
   },
   "outputs": [],
   "source": []
  }
 ],
 "metadata": {
  "kernelspec": {
   "display_name": "Python 3",
   "language": "python",
   "name": "python3"
  },
  "language_info": {
   "codemirror_mode": {
    "name": "ipython",
    "version": 3
   },
   "file_extension": ".py",
   "mimetype": "text/x-python",
   "name": "python",
   "nbconvert_exporter": "python",
   "pygments_lexer": "ipython3",
   "version": "3.6.4"
  }
 },
 "nbformat": 4,
 "nbformat_minor": 2
}
