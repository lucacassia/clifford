{
 "cells": [
  {
   "cell_type": "markdown",
   "metadata": {},
   "source": [
    "# Clifford Algebras"
   ]
  },
  {
   "cell_type": "markdown",
   "metadata": {},
   "source": [
    "This notebook computes a basis of the real clifford algebra $Cl(s,t)$ in $s$ space and $t$ time dimensions. Our convention is that $(e_i)^2=-1$ if $e_i$ is spacelike and $(e_i)^2=1$ if $e_i$ is timelike."
   ]
  },
  {
   "cell_type": "markdown",
   "metadata": {},
   "source": [
    "## Initialization"
   ]
  },
  {
   "cell_type": "code",
   "execution_count": 9,
   "metadata": {},
   "outputs": [],
   "source": [
    "from sympy.interactive.printing import init_printing\n",
    "init_printing(use_unicode=True, wrap_line=False, no_global=True)"
   ]
  },
  {
   "cell_type": "code",
   "execution_count": 10,
   "metadata": {
    "collapsed": true
   },
   "outputs": [],
   "source": [
    "from sympy import I\n",
    "from sympy.matrices import Matrix, eye\n",
    "from sympy.physics.quantum import TensorProduct"
   ]
  },
  {
   "cell_type": "code",
   "execution_count": 11,
   "metadata": {
    "collapsed": true
   },
   "outputs": [],
   "source": [
    "from IPython.core.interactiveshell import InteractiveShell\n",
    "InteractiveShell.ast_node_interactivity = \"all\""
   ]
  },
  {
   "cell_type": "markdown",
   "metadata": {},
   "source": [
    "## Some Definitions "
   ]
  },
  {
   "cell_type": "markdown",
   "metadata": {},
   "source": [
    "We define the low dimensional clifford algebras as:\n",
    "\n",
    "$Cl(0,0)=\\langle 1 \\rangle \\simeq \\mathbb{R}(1)$\n",
    "\n",
    "$Cl(1,0)=\\langle 1, i \\rangle \\simeq \\mathbb{C}(1)$\n",
    "\n",
    "$Cl(0,1)=\\langle 1, \\sigma_2 \\rangle \\simeq \\mathbb{R}(1)\\oplus\\mathbb{R}(1)$\n",
    "\n",
    "$Cl(2,0)=\\langle 1, \\gamma_1, \\gamma_2, \\gamma_{12} \\rangle \\simeq \\mathbb{H}(1)$\n",
    "\n",
    "$Cl(1,1)=\\langle 1, \\sigma_1, \\gamma_1, \\sigma_1\\gamma_1 \\rangle \\simeq \\mathbb{R}(2)$\n",
    "\n",
    "$Cl(0,2)=\\langle 1, \\sigma_1, \\sigma_2, \\sigma_{12} \\rangle \\simeq \\mathbb{R}(2)$"
   ]
  },
  {
   "cell_type": "code",
   "execution_count": 12,
   "metadata": {},
   "outputs": [
    {
     "data": {
      "image/png": "[encoded data removed]",
      "text/latex": [
       "$$\\left[\\begin{matrix}0 & 1\\\\-1 & 0\\end{matrix}\\right]$$"
      ],
      "text/plain": [
       "⎡0   1⎤\n",
       "⎢     ⎥\n",
       "⎣-1  0⎦"
      ]
     },
     "execution_count": 12,
     "metadata": {},
     "output_type": "execute_result"
    },
    {
     "data": {
      "image/png": "[encoded data removed]",
      "text/latex": [
       "$$\\left[\\begin{matrix}0 & i\\\\i & 0\\end{matrix}\\right]$$"
      ],
      "text/plain": [
       "⎡0  ⅈ⎤\n",
       "⎢    ⎥\n",
       "⎣ⅈ  0⎦"
      ]
     },
     "execution_count": 12,
     "metadata": {},
     "output_type": "execute_result"
    },
    {
     "data": {
      "image/png": "[encoded data removed]",
      "text/latex": [
       "$$\\left[\\begin{matrix}0 & 1\\\\1 & 0\\end{matrix}\\right]$$"
      ],
      "text/plain": [
       "⎡0  1⎤\n",
       "⎢    ⎥\n",
       "⎣1  0⎦"
      ]
     },
     "execution_count": 12,
     "metadata": {},
     "output_type": "execute_result"
    },
    {
     "data": {
      "image/png": "[encoded data removed]",
      "text/latex": [
       "$$\\left[\\begin{matrix}1 & 0\\\\0 & -1\\end{matrix}\\right]$$"
      ],
      "text/plain": [
       "⎡1  0 ⎤\n",
       "⎢     ⎥\n",
       "⎣0  -1⎦"
      ]
     },
     "execution_count": 12,
     "metadata": {},
     "output_type": "execute_result"
    }
   ],
   "source": [
    "g1 = Matrix([[ 0, 1],[-1, 0]]);g1\n",
    "g2 = Matrix([[ 0, I],[ I, 0]]);g2\n",
    "s1 = Matrix([[ 0, 1],[ 1, 0]]);s1\n",
    "s2 = Matrix([[ 1, 0],[ 0,-1]]);s2"
   ]
  },
  {
   "cell_type": "markdown",
   "metadata": {},
   "source": [
    "## Implementation"
   ]
  },
  {
   "cell_type": "markdown",
   "metadata": {},
   "source": [
    "Here we define `cl(s,t)` as the function that returns the generators of $Cl(s,t)$ as list of matrices.\n",
    "The first entry of the list is the scalar of the algebra while the other entries are the vectors.\n",
    "\n",
    "We use the relations:\n",
    "\n",
    "$Cl(s,t)\\equiv Cl(s-1,t-1)\\otimes_{\\mathbb{R}}Cl(1,1)$\n",
    "\n",
    "$Cl(s,0)\\equiv Cl(0,s-2)\\otimes_{\\mathbb{R}}Cl(2,0)$\n",
    "\n",
    "$Cl(0,t)\\equiv Cl(t-2,0)\\otimes_{\\mathbb{R}}Cl(0,2)$"
   ]
  },
  {
   "cell_type": "code",
   "execution_count": 13,
   "metadata": {},
   "outputs": [],
   "source": [
    "def cl(s, t):\n",
    "    if ( s < 0 ):\n",
    "        return [eye(1)]\n",
    "    elif ( s == 0 ):\n",
    "        if ( t < 0 ):\n",
    "            return [eye(1)]\n",
    "        elif ( t == 0 ):\n",
    "            return [eye(1)]\n",
    "        elif ( t == 1 ):\n",
    "            return [eye(2), s2]\n",
    "        else:\n",
    "            tmp = cl(t-2, s)\n",
    "            new = [TensorProduct(tmp[0], eye(2))]\n",
    "            for i in range(0, t+s-2):\n",
    "                new.append(TensorProduct(tmp[i+1], s1*s2))\n",
    "            new.append(TensorProduct(tmp[0], s1))\n",
    "            new.append(TensorProduct(tmp[0], s2))\n",
    "            return new\n",
    "    elif ( s == 1 ):\n",
    "        if ( t < 0 ):\n",
    "            return [eye(1)]\n",
    "        elif ( t == 0 ):\n",
    "            return [eye(1), I*eye(1)]\n",
    "        else:\n",
    "            tmp = cl(s-1, t-1)\n",
    "            new = [TensorProduct(tmp[0], eye(2))]\n",
    "            for i in range(0, t+s-2):\n",
    "                new.append(TensorProduct(tmp[i+1], g1*s1))\n",
    "            new.append(TensorProduct(tmp[0], g1))\n",
    "            new.append(TensorProduct(tmp[0], s1))\n",
    "            return new\n",
    "    else:\n",
    "        if ( t < 0 ):\n",
    "            return [eye(1)]\n",
    "        elif ( t == 0 ):\n",
    "            tmp = cl(t, s-2)\n",
    "            new = [TensorProduct(tmp[0], eye(2))]\n",
    "            for i in range(0, t+s-2):\n",
    "                new.append(TensorProduct(tmp[i+1], g1*g2))\n",
    "            new.append(TensorProduct(tmp[0], g1))\n",
    "            new.append(TensorProduct(tmp[0], g2))\n",
    "            return new\n",
    "        else:\n",
    "            tmp = cl(s-1, t-1)\n",
    "            new = [TensorProduct(tmp[0], eye(2))]\n",
    "            for i in range(0, t+s-2):\n",
    "                new.append(TensorProduct(tmp[i+1], g1*s1))\n",
    "            new.append(TensorProduct(tmp[0], g1))\n",
    "            new.append(TensorProduct(tmp[0], s1))\n",
    "            return new"
   ]
  },
  {
   "cell_type": "markdown",
   "metadata": {},
   "source": [
    "The function `clifford(s,t)` returns a list of (degree 1) generators for the clifford algebra, written in a basis in which the pseudoscalar is diagonal."
   ]
  },
  {
   "cell_type": "code",
   "execution_count": 14,
   "metadata": {},
   "outputs": [],
   "source": [
    "def clifford(s, t):\n",
    "    tmp = cl(s, t)\n",
    "    pseudoscalar = 1;\n",
    "    for i in range(0, len(tmp)):\n",
    "        pseudoscalar *= tmp[i]\n",
    "    if ( (I*pseudoscalar).is_Identity or (-I*pseudoscalar).is_Identity ):\n",
    "        return tmp[1:]\n",
    "    else:\n",
    "        m = pseudoscalar.diagonalize()[0]\n",
    "        new = []\n",
    "        for i in range(1, len(tmp)):\n",
    "            new.append(m.inv()*tmp[i]*m)\n",
    "        return new"
   ]
  },
  {
   "cell_type": "markdown",
   "metadata": {},
   "source": [
    "## Example:"
   ]
  },
  {
   "cell_type": "code",
   "execution_count": 15,
   "metadata": {
    "scrolled": false
   },
   "outputs": [
    {
     "data": {
      "image/png": "[encoded data removed]",
      "text/latex": [
       "$$\\left [ \\left[\\begin{matrix}0 & 0 & 0 & -1\\\\0 & 0 & -1 & 0\\\\0 & 1 & 0 & 0\\\\1 & 0 & 0 & 0\\end{matrix}\\right], \\quad \\left[\\begin{matrix}0 & 0 & 0 & - i\\\\0 & 0 & i & 0\\\\0 & i & 0 & 0\\\\- i & 0 & 0 & 0\\end{matrix}\\right], \\quad \\left[\\begin{matrix}0 & 0 & -1 & 0\\\\0 & 0 & 0 & 1\\\\1 & 0 & 0 & 0\\\\0 & -1 & 0 & 0\\end{matrix}\\right], \\quad \\left[\\begin{matrix}0 & 0 & 1 & 0\\\\0 & 0 & 0 & 1\\\\1 & 0 & 0 & 0\\\\0 & 1 & 0 & 0\\end{matrix}\\right]\\right ]$$"
      ],
      "text/plain": [
       "⎡⎡0  0  0   -1⎤, ⎡0   0  0  -ⅈ⎤, ⎡0  0   -1  0⎤, ⎡0  0  1  0⎤⎤\n",
       "⎢⎢            ⎥  ⎢            ⎥  ⎢            ⎥  ⎢          ⎥⎥\n",
       "⎢⎢0  0  -1  0 ⎥  ⎢0   0  ⅈ  0 ⎥  ⎢0  0   0   1⎥  ⎢0  0  0  1⎥⎥\n",
       "⎢⎢            ⎥  ⎢            ⎥  ⎢            ⎥  ⎢          ⎥⎥\n",
       "⎢⎢0  1  0   0 ⎥  ⎢0   ⅈ  0  0 ⎥  ⎢1  0   0   0⎥  ⎢1  0  0  0⎥⎥\n",
       "⎢⎢            ⎥  ⎢            ⎥  ⎢            ⎥  ⎢          ⎥⎥\n",
       "⎣⎣1  0  0   0 ⎦  ⎣-ⅈ  0  0  0 ⎦  ⎣0  -1  0   0⎦  ⎣0  1  0  0⎦⎦"
      ]
     },
     "execution_count": 15,
     "metadata": {},
     "output_type": "execute_result"
    }
   ],
   "source": [
    "vectors = clifford(3,1)\n",
    "vectors"
   ]
  },
  {
   "cell_type": "code",
   "execution_count": 16,
   "metadata": {},
   "outputs": [
    {
     "data": {
      "image/png": "[encoded data removed]",
      "text/latex": [
       "$$\\left[\\begin{matrix}- i & 0 & 0 & 0\\\\0 & - i & 0 & 0\\\\0 & 0 & i & 0\\\\0 & 0 & 0 & i\\end{matrix}\\right]$$"
      ],
      "text/plain": [
       "⎡-ⅈ  0   0  0⎤\n",
       "⎢            ⎥\n",
       "⎢0   -ⅈ  0  0⎥\n",
       "⎢            ⎥\n",
       "⎢0   0   ⅈ  0⎥\n",
       "⎢            ⎥\n",
       "⎣0   0   0  ⅈ⎦"
      ]
     },
     "execution_count": 16,
     "metadata": {},
     "output_type": "execute_result"
    }
   ],
   "source": [
    "pseudoscalar = 1;\n",
    "for i in range(0, len(vectors)):\n",
    "    pseudoscalar *= vectors[i]\n",
    "pseudoscalar"
   ]
  },
  {
   "cell_type": "code",
   "execution_count": null,
   "metadata": {
    "collapsed": true
   },
   "outputs": [],
   "source": []
  }
 ],
 "metadata": {
  "kernelspec": {
   "display_name": "Python 3",
   "language": "python",
   "name": "python3"
  },
  "language_info": {
   "codemirror_mode": {
    "name": "ipython",
    "version": 3
   },
   "file_extension": ".py",
   "mimetype": "text/x-python",
   "name": "python",
   "nbconvert_exporter": "python",
   "pygments_lexer": "ipython3",
   "version": "3.6.1"
  }
 },
 "nbformat": 4,
 "nbformat_minor": 2
}
